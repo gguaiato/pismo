{
 "cells": [
  {
   "cell_type": "code",
   "execution_count": 2,
   "metadata": {},
   "outputs": [
    {
     "name": "stdout",
     "output_type": "stream",
     "text": [
      "Requirement already satisfied: faker in /usr/local/lib/python3.9/site-packages (8.0.0)\r\n",
      "Requirement already satisfied: python-dateutil>=2.4 in /usr/local/lib/python3.9/site-packages (from faker) (2.8.1)\r\n",
      "Requirement already satisfied: text-unidecode==1.3 in /usr/local/lib/python3.9/site-packages (from faker) (1.3)\r\n",
      "Requirement already satisfied: six>=1.5 in /usr/local/lib/python3.9/site-packages (from python-dateutil>=2.4->faker) (1.15.0)\r\n"
     ]
    }
   ],
   "source": [
    "!pip3 install faker"
   ]
  },
  {
   "cell_type": "code",
   "execution_count": 28,
   "metadata": {},
   "outputs": [],
   "source": [
    "\n",
    "def _save_events_file(events, events_files_dir, events_output_file):\n",
    "    if not os.path.exists(events_files_dir):\n",
    "        os.makedirs(events_files_dir)\n",
    "\n",
    "    with open(f'{events_files_dir}/{events_output_file}', 'w') as file:\n",
    "        file.write(json.dumps(events))\n",
    "\n",
    "\n",
    "def _generate_sample_event():\n",
    "    event_id = str(uuid.uuid4())\n",
    "    timestamp = fake.date_time().strftime('%Y-%m-%dT%H:%M:%S')\n",
    "    data_id = fake.pyint()\n",
    "    return {\n",
    "        'event_id': event_id,\n",
    "        'timestamp': timestamp,\n",
    "        'domain': random.choice(DOMAIN_TYPES),\n",
    "        'event_type': random.choice(EVENT_TYPES),\n",
    "        'data': {\n",
    "            'id': data_id\n",
    "        }\n",
    "    }\n",
    "\n",
    "\n",
    "def generate_sample_files(events_files_path, event_files, max_events_file):\n",
    "    for file_index in range(event_files):\n",
    "        events = [_generate_sample_event() for i in range(max_events_file)]\n",
    "        events_output_file = f'events-{str(uuid.uuid4())[:8]}.json'\n",
    "        _save_events_file(events, events_files_path, events_output_file)\n"
   ]
  },
  {
   "cell_type": "code",
   "execution_count": 27,
   "metadata": {},
   "outputs": [],
   "source": [
    "\n",
    "def _save_events_file(events, events_files_dir, events_output_file):\n",
    "    if not os.path.exists(events_files_dir):\n",
    "        os.makedirs(events_files_dir)\n",
    "\n",
    "    with open(f'{events_files_dir}/{events_output_file}', 'w') as file:\n",
    "        file.write(json.dumps(events))\n",
    "\n",
    "\n",
    "def _generate_sample_event():\n",
    "    event_id = str(uuid.uuid4())\n",
    "    timestamp = fake.date_time().strftime('%Y-%m-%dT%H:%M:%S')\n",
    "    data_id = fake.pyint()\n",
    "    return {\n",
    "        'event_id': event_id,\n",
    "        'timestamp': timestamp,\n",
    "        'domain': random.choice(DOMAIN_TYPES),\n",
    "        'event_type': random.choice(EVENT_TYPES),\n",
    "        'data': {\n",
    "            'id': data_id\n",
    "        }\n",
    "    }\n",
    "\n",
    "\n",
    "def generate_sample_files(events_files_path, event_files, max_events_file):\n",
    "    for file_index in range(event_files):\n",
    "        events = [_generate_sample_event() for i in range(max_events_file)]\n",
    "        events_output_file = f'events-{file_index}.json'\n",
    "        _save_events_file(events, events_files_path, events_output_file)\n"
   ]
  }
 ],
 "metadata": {
  "kernelspec": {
   "display_name": "Python 3",
   "language": "python",
   "name": "python3"
  },
  "language_info": {
   "codemirror_mode": {
    "name": "ipython",
    "version": 3
   },
   "file_extension": ".py",
   "mimetype": "text/x-python",
   "name": "python",
   "nbconvert_exporter": "python",
   "pygments_lexer": "ipython3",
   "version": "3.9.4"
  }
 },
 "nbformat": 4,
 "nbformat_minor": 5
}
